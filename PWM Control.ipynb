{
 "cells": [
  {
   "cell_type": "markdown",
   "id": "f74126b3-bd14-4817-9df5-360a543c30d4",
   "metadata": {},
   "source": [
    "# PWM Control Using the TMS320F2837xD Dual-Core DSP\n"
   ]
  },
  {
   "cell_type": "markdown",
   "id": "bd7e35e7",
   "metadata": {},
   "source": [
    "Juan Camilo Garcıa Perez. \n",
    "*Department of Electronic Engineering, Santo Tomas University,*\n",
    "Bogota, Colombia (e-mail: juancgarciap@usantotomas.edu.co)"
   ]
  },
  {
   "cell_type": "markdown",
   "id": "860d829e-79bd-4033-a78c-1cb84b38fd39",
   "metadata": {},
   "source": [
    "**Abstract:** This paper presents a detailed study of *Pulse Width Modulation (PWM)* control using the TMS320F2837xD Dual-Core DSP. The paper explores the various features and capabilities of the DSP's PWM peripheral, and demonstrates how it can be utilized for precise control of power electronics systems. The paper also presents several real-world applications of PWM control using the DSP: (1) generating a 3-phase signal system using the three different PWM modules, (2) generating a 1 kHz signal with variable pulse width, (3) generating a pair of complementary 1 kHz signals at EPWM1A and EPWM2A, (4) independently modulating ePWM1A and ePWM1B, and (5) setting up a dead band unit for ePWM1A and ePWM1B rising edge. The purpose of this paper is to demonstrate the versatility of the TMS320F2837xD DSP in generating different PWM configurations for various applications.\n"
   ]
  },
  {
   "cell_type": "markdown",
   "id": "40114842-d1a7-4caf-a9ed-c99c0c32cf43",
   "metadata": {
    "tags": []
   },
   "source": [
    "## Introduction"
   ]
  },
  {
   "cell_type": "markdown",
   "id": "f6afe7af-b845-4b1b-8742-ee106fe34d24",
   "metadata": {},
   "source": [
    "The TMS320F2837xD Dual-Core DSP is a powerful and versatile device that is widely used in power electronics applications. One of the key features of the device is its built-in PWM peripheral, which enables precise control of power electronics systems. This paper presents an in-depth study of PWM control using the TMS320F2837xD DSP, and explores the various features and capabilities of the device's PWM peripheral, demonstrating the versatility and performance of the device.\n",
    "\n",
    "In this paper, we explore five different methods for configuring the PWM signals on the TMS320F2837xD. The first method involves generating a 3-phase signal system using the three different PWM channels available on the DSP. This is a common configuration used in motor control applications.\n",
    "\n",
    "The second method involves generating a 1 kHz signal with variable pulse width. This can be used in applications where the PWM duty cycle needs to be adjusted dynamically, such as in power electronics.\n",
    "\n",
    "The third method involves generating a pair of complementary 1 kHz signals at EPWM1A and EPWM2A. This configuration is useful for applications that require two PWM signals that are out of phase with each other.\n",
    "\n",
    "The fourth method involves independent modulation of ePWM1A and ePWM1B. This can be used to generate two separate PWM signals with different duty cycles and frequencies, which can be useful in applications that require complex control algorithms.\n",
    "\n",
    "Finally, the fifth method involves using the dead band unit for ePWM1A and ePWM1B rising edges. This configuration is useful for applications that require precise timing control, as it allows for a delay between the rising edges of the two PWM signals.\n",
    "\n",
    "Each of these methods will be described in detail, including the required configuration settings and any special considerations that need to be taken into account. By the end of this paper, readers will have a comprehensive understanding of how to configure the PWM signals on the TMS320F2837xD for a variety of real-time applications."
   ]
  },
  {
   "cell_type": "markdown",
   "id": "47c4bd6a-c843-4f6d-a229-3dcad70700d3",
   "metadata": {
    "tags": []
   },
   "source": [
    "## Objectives"
   ]
  },
  {
   "cell_type": "markdown",
   "id": "8fc3d455-120c-4cd0-b04c-2374e5d81fe6",
   "metadata": {},
   "source": [
    "### Main Objective"
   ]
  },
  {
   "cell_type": "markdown",
   "id": "e38a6aac-c2f6-4928-b336-414c363374a4",
   "metadata": {},
   "source": [
    "To provide a comprehensive study of PWM control using the TMS320F2837xD Dual-Core DSP, and to demonstrate how the device's built-in PWM peripheral can be utilized for precise control of power electronics systems."
   ]
  },
  {
   "cell_type": "markdown",
   "id": "1faf0990-90f1-491a-ab60-25cfeebe5f90",
   "metadata": {},
   "source": [
    "### Specific Objectives"
   ]
  },
  {
   "cell_type": "markdown",
   "id": "3471a38f-8cfc-41ce-b6db-f8611041df75",
   "metadata": {},
   "source": [
    "1. To explore the various features and capabilities of the TMS320F2837xD Dual-Core DSP's PWM peripheral.\n",
    "2. To demonstrate the use of the DSP's PWM peripheral for precise control of power electronics systems.\n",
    "3. To present several real-world applications of PWM control using the TMS320F2837xD DSP, highlighting the versatility and performance of the device."
   ]
  },
  {
   "cell_type": "markdown",
   "id": "2add628e-c6b0-48de-b8f6-b55b655f819d",
   "metadata": {},
   "source": [
    "## Procedure"
   ]
  },
  {
   "cell_type": "markdown",
   "id": "f67776b6-3446-4fbb-a348-3d9d8da6712e",
   "metadata": {},
   "source": [
    "To develop this paper, it was required to configure the signal frequency, in the following way of setting up an ePWM module a $f = 1k Hz$  square wave signal is generated. Knowing the frequency of the signal the PWM peripheral needs to set up its signal frequency: *Time base period (TBPRD)* as its shown in eq(1). \n"
   ]
  },
  {
   "cell_type": "markdown",
   "id": "5b4658d8-6417-439c-9dbd-f43d349f3b51",
   "metadata": {
    "tags": []
   },
   "source": [
    "$$ TBPRD = \\frac{f_{DSP}}{(1/2)*f_{PWM}*D_1*D_2} $$ (1)"
   ]
  },
  {
   "cell_type": "markdown",
   "id": "39530fad-f4d8-4bf8-894c-cab5ac828ba6",
   "metadata": {},
   "source": [
    "Eq(1) shows us the divider value can be modify from 1 to 2, 1 if it's used the up or down ePWM counter mode and 2 if it's used the up and down ePWM counter mode, also shows two dividers, which can be modified, $CLKDIV = D_1 = [1,2,4,8,16,32,64,128]$ and $HSPCLKDIV = D_2 = [1,2,4,6,8,10,12,14]$, the $f_{DSP} = 10MHz$ wich is maximum value that can be used in this peripheral and $f_{PWM} = 1kHz$ which is the desired square wave signal frequency.  It's important to know that the maximum TBPRD value is $65535$ if that value is greter than or equal to it you must modify the dividers values, for this configuration eq(1) is set:"
   ]
  },
  {
   "cell_type": "markdown",
   "id": "70e4f49a-5122-4c73-8e4c-699a1c88cb6b",
   "metadata": {
    "tags": []
   },
   "source": [
    "$$ TBPRD = \\frac{10MHz}{2*1kHz*1*1} = 50000 $$"
   ]
  },
  {
   "cell_type": "markdown",
   "id": "e067fd70",
   "metadata": {},
   "source": [
    "This value is going to be necessary in all the next PWM configurations."
   ]
  },
  {
   "cell_type": "markdown",
   "id": "715ac74e-7e37-48ab-aee4-15ad2875441a",
   "metadata": {},
   "source": [
    "### 1. Generating a 3-phase signal system using the three different PWM modules."
   ]
  },
  {
   "cell_type": "markdown",
   "id": "52a9b797-a5ac-485a-a495-7cd54b78bbb8",
   "metadata": {},
   "source": [
    "This method involves using three different PWM signals, where the duty cycles are modulated in such a way as to produce a 3-phase output signal. This can be used in various applications such as motor control, where a 3-phase AC voltage is required to drive the motor. In this implementation of a function called *InitEPWM1()*, which initializes three ePWM modules, namely EPWM1_BASE, EPWM2_BASE, and EPWM3_BASE. These modules are typically used to generate precise digital signals with varying duty cycles.\n",
    "\n",
    "The function begins by setting the time base phase and period of the ePWM modules. In this case, the time base period is set to 50 kHz using the EPWM_setTimeBasePeriod() function. \n",
    "\n",
    "The clock prescaler is then set to EPWM_CLOCK_DIVIDER_1 and the high speed clock divider is set to EPWM_HSCLOCK_DIVIDER_1.\n",
    "\n",
    "The time base counter mode is set to EPWM_COUNTER_MODE_UP_DOWN, which causes the counter to count up and down repeatedly.\n",
    "\n",
    "The phase shift is enabled using the EPWM_enablePhaseShiftLoad() function, and the phase shift value is set using the EPWM_setPhaseShift() function. The phase shift value for EPWM1_BASE is set to 0, while the phase shift value for EPWM2_BASE and EPWM3_BASE is set to 33.3e3, because:\n",
    "\n",
    "$$ \\frac{2*TBPRD}{3} = 33.3e3 $$\n",
    "\n",
    "The action qualifier (AQ) configuration for the ePWM modules is then set up using the EPWM_setActionQualifierAction() function. The AQ configuration determines the behavior of the ePWM output signals. In this case, EPWM1_BASE is configured to output a high signal when the time base counter is zero and a low signal when the time base counter equals the period. EPWM2_BASE is configured to output a low signal when the time base counter is zero and a high signal when the time base counter equals the period. EPWM3_BASE is configured to output a high signal when the time base counter is zero and a low signal when the time base counter equals the period.\n",
    "\n",
    "Finally, the count mode after sync is set to EPWM_COUNT_MODE_DOWN_AFTER_SYNC for the three PWM. This causes the time base counter to count down after a software or hardware sync event.\n",
    "\n",
    "According to this, was used a 2 chanel scope in order to verify the wave's behavior, as its shown in fig. 1."
   ]
  },
  {
   "cell_type": "markdown",
   "id": "a25b4e22-5d24-4694-86c6-c2b5d5a17e65",
   "metadata": {
    "tags": []
   },
   "source": [
    "![2-phase signal system](TEK0000.JPG) $$Fig. \\ 1.\\  2-Phase\\ Signal\\ System.$$"
   ]
  },
  {
   "cell_type": "markdown",
   "id": "dd375fc3",
   "metadata": {
    "tags": []
   },
   "source": [
    "In this case, we are comparing the EPWM1 with the EPWM3, we already knew that cutting the signal off in 120° when the main signal was at $\\frac{2}{3}$ of *TBPRD*, was the key to understand how to configure the EPWM3 so using the qualifiers in order to count when the signal takes that value and it was going down, we were able to acieve the offset, and using the scope we set the triggers in order to comper the cycles of each PWM and it's verified the lag of $660\\mu s$ as it was planned. "
   ]
  },
  {
   "cell_type": "markdown",
   "id": "2d6fd5fa-983b-4d4b-9c74-0ae927497eb8",
   "metadata": {},
   "source": [
    "### 2. Generating a 1 kHz signal with variable pulse width."
   ]
  },
  {
   "cell_type": "markdown",
   "id": "371a30f0-69c2-457b-955d-bd8629697435",
   "metadata": {},
   "source": [
    "In this implementation of a function called *InitEPWM3()*, it's configured the ePWM1 module to generate a pulse-width modulated signal with a fixed frequency of 1 kHz, but a variable pulse width that can be adjusted by modifying the value of the VALCOMP register.\n",
    "\n",
    "The first part of the code sets up the ePWM module, similarly to the previous examples we have discussed. The time base counter is initialized to 0, and the time base period is set to 50,000. The clock prescaler is set to divide the clock by 1, and the counter mode is set to up-down. A phase shift of 0 is applied, and phase shift load is enabled.\n",
    "\n",
    "Next, the VALCOMP register is set to 35,000. This sets the initial pulse width of the PWM signal.\n",
    "\n",
    "The code then enters an infinite loop. Inside the loop, the code checks if the VALCOMP register has been changed from its previous value. If it has, the OLDVALCOMP variable is updated to the new value of VALCOMP, and the PWM signal is reconfigured to have a pulse width equal to VALCOMP.\n",
    "\n",
    "To modify the pulse width, the code uses the EPWM_setCounterCompareValue function to set the compare value of the counter to the current value of VALCOMP. This sets the point in the PWM cycle at which the output will transition from high to low.\n",
    "\n",
    "The code then uses the EPWM_setActionQualifierAction function to configure the output behavior of the ePWM module. In this case, the A output is set to go high at timebase zero and low at the compare A event.\n",
    "\n",
    "Because the loop is infinite, the code will continuously check for changes to the VALCOMP register and update the PWM signal accordingly. This allows for real-time adjustment of the pulse width of the PWM signal. \n",
    "\n",
    "According to this, was used a 2 chanel scope in order to verify the wave's behavior, as its shown in fig. 2, 3, and 4."
   ]
  },
  {
   "cell_type": "markdown",
   "id": "b4d3e857",
   "metadata": {},
   "source": [
    "![PW 35000](TEK0001.JPG) $$Fig. \\ 2.\\  Pulse \\ Width \\ when \\ VALCOMP \\ = \\ 35000.$$\n",
    "![PW 15000](TEK0002.JPG) $$Fig. \\ 3.\\  Pulse \\ Width \\ when \\ VALCOMP \\ = \\ 15000.$$\n",
    "![PW 50000](TEK0003.JPG) $$Fig. \\ 4.\\  Pulse \\ Width \\ when \\ VALCOMP \\ = \\ 50000.$$"
   ]
  },
  {
   "cell_type": "markdown",
   "id": "7646a44c",
   "metadata": {},
   "source": [
    "The pulse width was set equal than TBPRD but according our configuration of the qualifiers that is why it only reaches the $50\\%$ of the duty."
   ]
  },
  {
   "cell_type": "markdown",
   "id": "a8ea1a3d-6cd8-455c-9ccf-7ff987d964b8",
   "metadata": {},
   "source": [
    "### 3. Generating a pair of complementary 1 kHz signals at EPWM1A and EPWM2A."
   ]
  },
  {
   "cell_type": "markdown",
   "id": "67b44e15-e1dc-42c2-9692-f2d5214dec51",
   "metadata": {},
   "source": [
    "This method involves two complementary 1 kHz signals at EPWM1A and EPWM2A. The EPWM1A signal has a high pulse width when the timebase counter is at zero and a low pulse width when the counter is at the compare value. The EPWM2A signal has a high pulse width when the timebase counter is at the compare value and a low pulse width when the counter is at zero.\n",
    "\n",
    "The EPWM1A signal is configured using the EPWM1_BASE registers. It is set to count from 0 to 50000, with a prescaler of 1 and a high-speed clock divider of 1. The counter counts up and down, and the phase shift is set to 0.\n",
    "\n",
    "The EPWM2A signal is configured using the EPWM2_BASE registers. It is set to count from 0 to 50000, with a prescaler of 1 and a high-speed clock divider of 1. The counter counts up and down, and the phase shift is set to 0.\n",
    "\n",
    "Both signals have a counter compare value of 10000, and their action qualifier actions are set up to generate complementary signals. Specifically, when the EPWM1A signal is at 0, the output is high, and when it is at the counter compare value, the output is low. For EPWM2A, when the signal is at the counter compare value, the output is high, and when it is at 0, the output is low.\n",
    "\n",
    "Finally, the count mode after sync for EPWM2A is set to count down after a sync event. According to this, was used a 2 chanel scope in order to verify the wave's behavior, as its shown in fig. 5."
   ]
  },
  {
   "cell_type": "markdown",
   "id": "74a91cf8",
   "metadata": {},
   "source": [
    "![Complementary](TEK0004.JPG) $$Fig. \\ 5.\\  Complemetary \\ Signals.$$"
   ]
  },
  {
   "cell_type": "markdown",
   "id": "d9e27eed-9c31-4ac2-90e1-e5aa62b131c8",
   "metadata": {},
   "source": [
    "### 4. Independently modulating ePWM1A and ePWM1B."
   ]
  },
  {
   "cell_type": "markdown",
   "id": "083e7dd2-b11f-461c-8a57-6cd9d4ad04de",
   "metadata": {},
   "source": [
    "This method involves two independent ePWM channels, ePWM1A and ePWM1B. Both channels are set to have a time base period of 50000 and use a clock prescaler of 1. They both operate in up-down counting mode and have phase shift enabled with a phase shift value of 0.\n",
    "\n",
    "For ePWM1A, the counter compare value is set to 15000, and two action qualifier actions are set. When the timebase counter is equal to the up compare value (CMPA), the output is set high, and when the timebase counter is equal to the down compare value (CMPA), the output is set low.\n",
    "\n",
    "For ePWM1B, the counter compare value is set to 35000, and two action qualifier actions are set. When the timebase counter is equal to the up compare value (CMPB), the output is set high, and when the timebase counter is equal to the down compare value (CMPB), the output is set low.\n",
    "\n",
    "In summary, this code initializes two independent ePWM channels with different counter compare values and action qualifier actions. The outputs of the channels will change state at specific timebase counter values based on the compare values and action qualifiers that were set.\n",
    "\n",
    "According to this, was used a 2 chanel scope in order to verify the wave's behavior, as its shown in fig. 6."
   ]
  },
  {
   "cell_type": "markdown",
   "id": "d0e5e6b2",
   "metadata": {},
   "source": [
    "![Independently Modulation](TEK0005.JPG) $$Fig. \\ 6.\\  Independently \\ Modulation.$$"
   ]
  },
  {
   "cell_type": "markdown",
   "id": "fa938aa9-09b9-40f4-846b-d4593c92aa71",
   "metadata": {},
   "source": [
    "### 5. Setting up a dead band unit for ePWM1A and ePWM1B rising edge"
   ]
  },
  {
   "cell_type": "markdown",
   "id": "17477111-3944-4bab-b6c0-81189ce7f942",
   "metadata": {},
   "source": [
    "This method involves adding a dead-band unit to the PWM signals. The ePWMs are configured to have a period of 50000 and are set up for up-down counting mode. The dead band delay is enabled for rising edge and set to 750 counts, which adds a delay to the rising edge of the PWM signal.\n",
    "\n",
    "For ePWM1A, the rising edge delay input is set to EPWM1A, and the compare value is set to 25000. The action qualifiers are set up to output a high signal on the up-count and a low signal on the down-count.\n",
    "\n",
    "For ePWM1B, the rising edge delay input is set to EPWM1A, and the compare value is set to 25000. The action qualifiers are set up to output a low signal on the up-count and a high signal on the down-count.\n",
    "\n",
    "Dead band is a time delay inserted between the rising and falling edge of a PWM signal to avoid the occurrence of shoot-through currents in the output stage of an H-bridge. Shoot-through is a condition when both the upper and lower switches of an H-bridge are on at the same time, resulting in a short circuit between the power supply rails. This can lead to damage to the power stage, and therefore it is essential to prevent it from occurring. The dead band delay ensures that the lower switch turns off before the upper switch turns on and vice versa, preventing shoot-through currents from flowing."
   ]
  },
  {
   "cell_type": "markdown",
   "id": "6f880c37",
   "metadata": {},
   "source": [
    "![Dead band](TEK0005.JPG) $$Fig. \\ 6.\\  Dead \\ Band \\ (Rising \\ Edge).$$"
   ]
  },
  {
   "cell_type": "markdown",
   "id": "c969c99f-b6f2-479a-a501-c38b88762b97",
   "metadata": {},
   "source": [
    "## Conclusion"
   ]
  },
  {
   "cell_type": "markdown",
   "id": "cd21fa87",
   "metadata": {},
   "source": [
    "The ePWM module is a powerful tool for controlling pulse width modulation signals in embedded systems. It allows you to precisely control the frequency and duty cycle of your signal, which is useful in many applications.\n",
    "The specific ePWM configurations you've provided each have a different purpose. For example, some are designed to create specific pulse shapes or output waveforms, while others are intended for use in dead time management or other types of control applications.\n",
    "\n",
    "Each ePWM configuration requires careful parameter selection and setup to achieve the desired output behavior. In some cases, this may involve configuring multiple registers and modules to work together in a specific way.\n",
    "\n",
    "Many of the ePWM configurations you've provided involve setting up different types of action qualifiers, which determine the output behavior of the PWM signal in different situations. For example, action qualifiers can be used to control what happens when the PWM counter reaches its upper or lower limit, or when a compare match occurs.\n",
    "\n",
    "Some of the ePWM configurations you've provided also involve setting up dead band delays, which are used to prevent shoot-through current in power electronics applications. \n",
    "\n",
    "Dead bands introduce a delay between turning off one switch and turning on another, which helps to prevent current from flowing through both switches simultaneously and causing a short circuit.\n",
    "\n",
    "Finally, the ePWM configurations involve configuring the ePWM module using the TI C2000 family of microcontrollers. However, the basic concepts and techniques used to configure ePWM signals are likely to be similar across different platforms and microcontroller families."
   ]
  },
  {
   "cell_type": "markdown",
   "id": "4bbdef13-0784-4a23-aed9-cd50125f6ce0",
   "metadata": {},
   "source": [
    "## References"
   ]
  },
  {
   "cell_type": "markdown",
   "id": "a76dd99c-d373-471e-a3dd-cd268b9a1ca6",
   "metadata": {},
   "source": [
    "[1] TMS320F2837xD Dual-Core Microcontrollers Technical Reference Manual.\n",
    "\n",
    "[2] F2837xD Firmware Development Package. USER’S GUIDE.\n",
    "\n",
    "[3] DSP2839D Plans. Texas Instruments."
   ]
  },
  {
   "cell_type": "code",
   "execution_count": 1,
   "id": "88c6cd84-abba-4f49-af4a-10148943f66d",
   "metadata": {
    "tags": []
   },
   "outputs": [
    {
     "data": {
      "text/html": [
       "\n",
       "        <iframe\n",
       "            width=\"900\"\n",
       "            height=\"5000\"\n",
       "            src=\"ePWMControl.pdf\"\n",
       "            frameborder=\"0\"\n",
       "            allowfullscreen\n",
       "            \n",
       "        ></iframe>\n",
       "        "
      ],
      "text/plain": [
       "<IPython.lib.display.IFrame at 0x28d52d5a100>"
      ]
     },
     "execution_count": 1,
     "metadata": {},
     "output_type": "execute_result"
    }
   ],
   "source": [
    "from IPython.display import IFrame\n",
    "\n",
    "IFrame(\"ePWMControl.pdf\", width=900, height=5000)"
   ]
  },
  {
   "cell_type": "code",
   "execution_count": null,
   "id": "f6f96b85-8d46-4147-9588-0cb7c0c0ed4e",
   "metadata": {},
   "outputs": [],
   "source": []
  }
 ],
 "metadata": {
  "kernelspec": {
   "display_name": "Python 3 (ipykernel)",
   "language": "python",
   "name": "python3"
  },
  "language_info": {
   "codemirror_mode": {
    "name": "ipython",
    "version": 3
   },
   "file_extension": ".py",
   "mimetype": "text/x-python",
   "name": "python",
   "nbconvert_exporter": "python",
   "pygments_lexer": "ipython3",
   "version": "3.9.12"
  }
 },
 "nbformat": 4,
 "nbformat_minor": 5
}
